{
 "cells": [
  {
   "cell_type": "code",
   "execution_count": 3,
   "metadata": {},
   "outputs": [],
   "source": [
    "import requests\n",
    "import json\n",
    "import numpy as np"
   ]
  },
  {
   "cell_type": "code",
   "execution_count": 22,
   "metadata": {},
   "outputs": [],
   "source": [
    "url = \"http://localhost:11434/api/embeddings\"\n",
    "\n",
    "\n",
    "def get_embed(prompt, model=\"mistral\"):\n",
    "    # Define the payload (data to be sent with the request)\n",
    "    payload = {\n",
    "        \"model\": model,\n",
    "        \"prompt\": prompt\n",
    "        }\n",
    "\n",
    "    data = None\n",
    "    # Send the POST request with streaming\n",
    "    with requests.post(url, json=payload, stream=True) as response:\n",
    "        # Check if the request was successful (status code 200)\n",
    "        if response.status_code == 200:\n",
    "            # Iterate through the streaming responses\n",
    "            for line in response.iter_lines():\n",
    "                if line:\n",
    "                    # Parse the JSON response\n",
    "                    data = json.loads(line.decode(\"utf-8\"))\n",
    "                    data = np.array(data[\"embedding\"])\n",
    "\n",
    "        else:\n",
    "            print(f\"Error: {response.status_code} - {response.text}\")\n",
    "    \n",
    "    return data"
   ]
  },
  {
   "cell_type": "code",
   "execution_count": 31,
   "metadata": {},
   "outputs": [],
   "source": [
    "SERVER_URL = \"http://localhost:11434\"\n",
    "\n",
    "def generate_response(prompt, model='tinyllama', context=[]):\n",
    "    API_END = \"/api/generate\"\n",
    "\n",
    "    payload = {\n",
    "        \"model\": model,\n",
    "        \"prompt\": prompt,\n",
    "        \"context\": context\n",
    "    }\n",
    "\n",
    "    url = SERVER_URL + API_END\n",
    "    next_context = []\n",
    "\n",
    "    # Send the POST request with streaming\n",
    "    with requests.post(url, json=payload, stream=True) as response:\n",
    "        # Check if the request was successful (status code 200)\n",
    "        if response.status_code == 200:\n",
    "            # Iterate through the streaming responses\n",
    "            for line in response.iter_lines():\n",
    "                if line:\n",
    "                    # Parse the JSON response\n",
    "                    data = json.loads(line.decode(\"utf-8\"))\n",
    "                    \n",
    "                    # Print without buffering\n",
    "                    print(data[\"response\"], end=\"\", flush=True)\n",
    "                    if data[\"done\"]: \n",
    "                        next_context = data[\"context\"]\n",
    "\n",
    "        else:\n",
    "            print(f\"Error: {response.status_code} - {response.text}\")\n",
    "\n",
    "    return next_context"
   ]
  }
 ],
 "metadata": {
  "kernelspec": {
   "display_name": "Python 3",
   "language": "python",
   "name": "python3"
  },
  "language_info": {
   "codemirror_mode": {
    "name": "ipython",
    "version": 3
   },
   "file_extension": ".py",
   "mimetype": "text/x-python",
   "name": "python",
   "nbconvert_exporter": "python",
   "pygments_lexer": "ipython3",
   "version": "3.11.6"
  }
 },
 "nbformat": 4,
 "nbformat_minor": 2
}
